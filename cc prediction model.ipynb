{
 "cells": [
  {
   "cell_type": "markdown",
   "metadata": {
    "id": "uX-pllsMmUHH"
   },
   "source": [
    "Credit score cards are a common risk control method in the financial industry. It uses personal information and data submitted by credit card applicants to predict the probability of future defaults and credit card borrowings. The bank is able to decide whether to issue a credit card to the applicant. Credit scores can objectively quantify the magnitude of risk.\n",
    "\n",
    "### The data file credit_card_application.csv contains all the details collected from different customers whose attributes are explained in the table below.\n",
    "\n",
    "<style type=\"text/css\">\n",
    ".tg  {border-collapse:collapse;border-spacing:0;}\n",
    ".tg td{font-family:Arial, sans-serif;font-size:14px;padding:10px 5px;border-style:solid;border-width:1px;overflow:hidden;word-break:normal;border-color:black;}\n",
    ".tg th{font-family:Arial, sans-serif;font-size:14px;font-weight:normal;padding:10px 5px;border-style:solid;border-width:1px;overflow:hidden;word-break:normal;border-color:black;}\n",
    ".tg .tg-cly1{text-align:left;vertical-align:middle}\n",
    ".tg .tg-0lax{text-align:left;vertical-align:top}\n",
    "</style>\n",
    "<table class=\"tg\">\n",
    "  <tr>\n",
    "    <th class=\"tg-cly1\">Feature name</th>\n",
    "    <th class=\"tg-cly1\">Explanation</th>\n",
    "    <th class=\"tg-cly1\">Remarks</th>\n",
    "  </tr>\n",
    "  <tr>\n",
    "    <td class=\"tg-cly1\">ID</td>\n",
    "    <td class=\"tg-cly1\">client number</td>\n",
    "    <td class=\"tg-cly1\"></td>\n",
    "  </tr>\n",
    "  <tr>\n",
    "    <td class=\"tg-cly1\">'CODE_GENDER'</td>\n",
    "    <td class=\"tg-cly1\">gender</td>\n",
    "    <td class=\"tg-cly1\"></td>\n",
    "  </tr>\n",
    "  <tr>\n",
    "    <td class=\"tg-cly1\">'FLAGOWNCAR'</td>\n",
    "    <td class=\"tg-cly1\">Is there a car</td>\n",
    "    <td class=\"tg-cly1\"></td>\n",
    "  </tr>\n",
    "  <tr>\n",
    "    <td class=\"tg-cly1\">'FLAGOWNREALTY'</td>\n",
    "    <td class=\"tg-cly1\">Is there a property</td>\n",
    "    <td class=\"tg-cly1\"></td>\n",
    "  </tr>\n",
    "  <tr>\n",
    "    <td class=\"tg-cly1\">'CNT_CHILDREN'</td>\n",
    "    <td class=\"tg-cly1\">Number of children</td>\n",
    "    <td class=\"tg-cly1\"></td>\n",
    "  </tr>\n",
    "  <tr>\n",
    "    <td class=\"tg-cly1\">'AMTINCOMETOTAL'</td>\n",
    "    <td class=\"tg-cly1\">Annual income</td>\n",
    "    <td class=\"tg-cly1\"></td>\n",
    "  </tr>\n",
    "  <tr>\n",
    "    <td class=\"tg-cly1\">'NAMEINCOMETYPE'</td>\n",
    "    <td class=\"tg-cly1\">Income category</td>\n",
    "    <td class=\"tg-cly1\"></td>\n",
    "  </tr>\n",
    "  <tr>\n",
    "    <td class=\"tg-cly1\">'NAMEEDUCATIONTYPE'</td>\n",
    "    <td class=\"tg-cly1\">education level</td>\n",
    "    <td class=\"tg-cly1\"></td>\n",
    "  </tr>\n",
    "  <tr>\n",
    "    <td class=\"tg-cly1\">'NAMEFAMILYSTATUS'</td>\n",
    "    <td class=\"tg-cly1\">Marital status</td>\n",
    "    <td class=\"tg-cly1\"></td>\n",
    "  </tr>\n",
    "  <tr>\n",
    "    <td class=\"tg-cly1\">'NAMEHOUSINGTYPE'</td>\n",
    "    <td class=\"tg-cly1\">Way of living</td>\n",
    "    <td class=\"tg-cly1\"></td>\n",
    "  </tr>\n",
    "  <tr>\n",
    "    <td class=\"tg-cly1\">'DAYS_BIRTH'</td>\n",
    "    <td class=\"tg-cly1\">birthday</td>\n",
    "    <td class=\"tg-cly1\"></td>\n",
    "  </tr>\n",
    "  <tr>\n",
    "    <td class=\"tg-cly1\">'DAYS_EMPLOYED'</td>\n",
    "    <td class=\"tg-cly1\">Start date</td>\n",
    "    <td class=\"tg-cly1\"></td>\n",
    "  </tr>\n",
    "  <tr>\n",
    "    <td class=\"tg-cly1\">'FLAG_MOBIL'</td>\n",
    "    <td class=\"tg-cly1\">Is there a mobile phone</td>\n",
    "    <td class=\"tg-cly1\"></td>\n",
    "  </tr>\n",
    "  <tr>\n",
    "    <td class=\"tg-0lax\">'FLAGWORKPHONE'</td>\n",
    "    <td class=\"tg-0lax\">Is there a work phone</td>\n",
    "    <td class=\"tg-0lax\"></td>\n",
    "  </tr>\n",
    "  <tr>\n",
    "    <td class=\"tg-0lax\">'FLAG_PHONE'</td>\n",
    "    <td class=\"tg-0lax\">Is there a phone</td>\n",
    "    <td class=\"tg-0lax\"></td>\n",
    "  </tr>\n",
    "  <tr>\n",
    "    <td class=\"tg-0lax\">'FLAG_EMAIL'</td>\n",
    "    <td class=\"tg-0lax\">Is there an email</td>\n",
    "    <td class=\"tg-0lax\"></td>\n",
    "  </tr>\n",
    "  <tr>\n",
    "    <td class=\"tg-0lax\">'OCCUPATION_TYPE'</td>\n",
    "    <td class=\"tg-0lax\">Occupation</td>\n",
    "    <td class=\"tg-0lax\"></td>\n",
    "  </tr>\n",
    "  <tr>\n",
    "    <td class=\"tg-0lax\">'CNTFAMMEMBERS'</td>\n",
    "    <td class=\"tg-0lax\">Family size</td>\n",
    "    <td class=\"tg-0lax\"></td>\n",
    "  </tr>\n",
    "  <tr>\n",
    "    <td class=\"tg-0lax\">begin_month</td>\n",
    "    <td class=\"tg-0lax\">record month</td>\n",
    "    <td class=\"tg-0lax\">The month of the extracted data is the starting point, backwards, 0 is the current month, -1 is the previous month, and so on</td>\n",
    "  </tr>\n",
    "  <tr>\n",
    "    <td class=\"tg-0lax\">target</td>\n",
    "    <td class=\"tg-0lax\"></td>\n",
    "    <td class=\"tg-0lax\">1 for high risk and 0 for low risk</td>\n",
    "  </tr>\n",
    "</table>"
   ]
  },
  {
   "cell_type": "markdown",
   "metadata": {},
   "source": [
    "# 1. EDA"
   ]
  },
  {
   "cell_type": "code",
   "execution_count": 18,
   "metadata": {
    "colab": {
     "base_uri": "https://localhost:8080/"
    },
    "id": "BlfPponzmGCY",
    "outputId": "c393561c-bf5b-44a6-99dd-ad4df27e2fe6"
   },
   "outputs": [
    {
     "name": "stdout",
     "output_type": "stream",
     "text": [
      "<class 'pandas.core.frame.DataFrame'>\n",
      "RangeIndex: 438557 entries, 0 to 438556\n",
      "Data columns (total 19 columns):\n",
      " #   Column               Non-Null Count   Dtype  \n",
      "---  ------               --------------   -----  \n",
      " 0   ID                   438557 non-null  int64  \n",
      " 1   CODE_GENDER          438557 non-null  object \n",
      " 2   FLAG_OWN_CAR         438557 non-null  object \n",
      " 3   FLAG_OWN_REALTY      438557 non-null  object \n",
      " 4   CNT_CHILDREN         438557 non-null  int64  \n",
      " 5   AMT_INCOME_TOTAL     438557 non-null  float64\n",
      " 6   NAME_INCOME_TYPE     438557 non-null  object \n",
      " 7   NAME_EDUCATION_TYPE  438557 non-null  object \n",
      " 8   NAME_FAMILY_STATUS   438557 non-null  object \n",
      " 9   NAME_HOUSING_TYPE    438557 non-null  object \n",
      " 10  DAYS_BIRTH           438557 non-null  int64  \n",
      " 11  DAYS_EMPLOYED        438557 non-null  int64  \n",
      " 12  FLAG_MOBIL           438557 non-null  int64  \n",
      " 13  FLAG_WORK_PHONE      438557 non-null  int64  \n",
      " 14  FLAG_PHONE           438557 non-null  int64  \n",
      " 15  FLAG_EMAIL           438557 non-null  int64  \n",
      " 16  OCCUPATION_TYPE      304354 non-null  object \n",
      " 17  CNT_FAM_MEMBERS      438557 non-null  int64  \n",
      " 18  target               438557 non-null  int64  \n",
      "dtypes: float64(1), int64(10), object(8)\n",
      "memory usage: 63.6+ MB\n"
     ]
    },
    {
     "data": {
      "text/plain": [
       "(None,\n",
       "         ID CODE_GENDER FLAG_OWN_CAR FLAG_OWN_REALTY  CNT_CHILDREN  \\\n",
       " 0  5008804           M            Y               Y             0   \n",
       " 1  5008805           M            Y               Y             0   \n",
       " 2  5008806           M            Y               Y             0   \n",
       " 3  5008808           F            N               Y             0   \n",
       " 4  5008809           F            N               Y             0   \n",
       " \n",
       "    AMT_INCOME_TOTAL      NAME_INCOME_TYPE            NAME_EDUCATION_TYPE  \\\n",
       " 0          427500.0               Working               Higher education   \n",
       " 1          427500.0               Working               Higher education   \n",
       " 2          112500.0               Working  Secondary / secondary special   \n",
       " 3          270000.0  Commercial associate  Secondary / secondary special   \n",
       " 4          270000.0  Commercial associate  Secondary / secondary special   \n",
       " \n",
       "      NAME_FAMILY_STATUS  NAME_HOUSING_TYPE  DAYS_BIRTH  DAYS_EMPLOYED  \\\n",
       " 0        Civil marriage   Rented apartment      -12005          -4542   \n",
       " 1        Civil marriage   Rented apartment      -12005          -4542   \n",
       " 2               Married  House / apartment      -21474          -1134   \n",
       " 3  Single / not married  House / apartment      -19110          -3051   \n",
       " 4  Single / not married  House / apartment      -19110          -3051   \n",
       " \n",
       "    FLAG_MOBIL  FLAG_WORK_PHONE  FLAG_PHONE  FLAG_EMAIL OCCUPATION_TYPE  \\\n",
       " 0           1                1           0           0             NaN   \n",
       " 1           1                1           0           0             NaN   \n",
       " 2           1                0           0           0  Security staff   \n",
       " 3           1                0           1           1     Sales staff   \n",
       " 4           1                0           1           1     Sales staff   \n",
       " \n",
       "    CNT_FAM_MEMBERS  target  \n",
       " 0                2       0  \n",
       " 1                2       0  \n",
       " 2                2       1  \n",
       " 3                1       1  \n",
       " 4                1       1  )"
      ]
     },
     "execution_count": 18,
     "metadata": {},
     "output_type": "execute_result"
    }
   ],
   "source": [
    "from sklearn.decomposition import PCA\n",
    "from sklearn.ensemble import RandomForestClassifier\n",
    "from sklearn.metrics import classification_report, confusion_matrix\n",
    "from sklearn.model_selection import train_test_split\n",
    "from sklearn.preprocessing import StandardScaler\n",
    "import pandas as pd\n",
    "\n",
    "data = pd.read_csv('credit_card_application.csv')\n",
    "\n",
    "# Display basic information about the dataset\n",
    "data_info = data.info()\n",
    "data_head = data.head()\n",
    "\n",
    "(data_info, data_head)"
   ]
  },
  {
   "cell_type": "code",
   "execution_count": 19,
   "metadata": {
    "colab": {
     "base_uri": "https://localhost:8080/",
     "height": 317
    },
    "id": "Dg-C6baRIGlH",
    "outputId": "aa62fa9a-4cf8-46ff-ce09-00ff8da235f6"
   },
   "outputs": [
    {
     "data": {
      "text/html": [
       "<div>\n",
       "<style scoped>\n",
       "    .dataframe tbody tr th:only-of-type {\n",
       "        vertical-align: middle;\n",
       "    }\n",
       "\n",
       "    .dataframe tbody tr th {\n",
       "        vertical-align: top;\n",
       "    }\n",
       "\n",
       "    .dataframe thead th {\n",
       "        text-align: right;\n",
       "    }\n",
       "</style>\n",
       "<table border=\"1\" class=\"dataframe\">\n",
       "  <thead>\n",
       "    <tr style=\"text-align: right;\">\n",
       "      <th></th>\n",
       "      <th>ID</th>\n",
       "      <th>CNT_CHILDREN</th>\n",
       "      <th>AMT_INCOME_TOTAL</th>\n",
       "      <th>DAYS_BIRTH</th>\n",
       "      <th>DAYS_EMPLOYED</th>\n",
       "      <th>FLAG_MOBIL</th>\n",
       "      <th>FLAG_WORK_PHONE</th>\n",
       "      <th>FLAG_PHONE</th>\n",
       "      <th>FLAG_EMAIL</th>\n",
       "      <th>CNT_FAM_MEMBERS</th>\n",
       "      <th>target</th>\n",
       "    </tr>\n",
       "  </thead>\n",
       "  <tbody>\n",
       "    <tr>\n",
       "      <th>count</th>\n",
       "      <td>4.385570e+05</td>\n",
       "      <td>438557.000000</td>\n",
       "      <td>4.385570e+05</td>\n",
       "      <td>438557.000000</td>\n",
       "      <td>438557.000000</td>\n",
       "      <td>438557.0</td>\n",
       "      <td>438557.000000</td>\n",
       "      <td>438557.000000</td>\n",
       "      <td>438557.000000</td>\n",
       "      <td>438557.000000</td>\n",
       "      <td>438557.000000</td>\n",
       "    </tr>\n",
       "    <tr>\n",
       "      <th>mean</th>\n",
       "      <td>6.022176e+06</td>\n",
       "      <td>0.427390</td>\n",
       "      <td>1.875243e+05</td>\n",
       "      <td>-15997.904649</td>\n",
       "      <td>60563.675328</td>\n",
       "      <td>1.0</td>\n",
       "      <td>0.206133</td>\n",
       "      <td>0.287771</td>\n",
       "      <td>0.108207</td>\n",
       "      <td>2.194465</td>\n",
       "      <td>0.499422</td>\n",
       "    </tr>\n",
       "    <tr>\n",
       "      <th>std</th>\n",
       "      <td>5.716370e+05</td>\n",
       "      <td>0.724882</td>\n",
       "      <td>1.100869e+05</td>\n",
       "      <td>4185.030007</td>\n",
       "      <td>138767.799647</td>\n",
       "      <td>0.0</td>\n",
       "      <td>0.404527</td>\n",
       "      <td>0.452724</td>\n",
       "      <td>0.310642</td>\n",
       "      <td>0.897207</td>\n",
       "      <td>0.500000</td>\n",
       "    </tr>\n",
       "    <tr>\n",
       "      <th>min</th>\n",
       "      <td>5.008804e+06</td>\n",
       "      <td>0.000000</td>\n",
       "      <td>2.610000e+04</td>\n",
       "      <td>-25201.000000</td>\n",
       "      <td>-17531.000000</td>\n",
       "      <td>1.0</td>\n",
       "      <td>0.000000</td>\n",
       "      <td>0.000000</td>\n",
       "      <td>0.000000</td>\n",
       "      <td>1.000000</td>\n",
       "      <td>0.000000</td>\n",
       "    </tr>\n",
       "    <tr>\n",
       "      <th>25%</th>\n",
       "      <td>5.609375e+06</td>\n",
       "      <td>0.000000</td>\n",
       "      <td>1.215000e+05</td>\n",
       "      <td>-19483.000000</td>\n",
       "      <td>-3103.000000</td>\n",
       "      <td>1.0</td>\n",
       "      <td>0.000000</td>\n",
       "      <td>0.000000</td>\n",
       "      <td>0.000000</td>\n",
       "      <td>2.000000</td>\n",
       "      <td>0.000000</td>\n",
       "    </tr>\n",
       "    <tr>\n",
       "      <th>50%</th>\n",
       "      <td>6.047745e+06</td>\n",
       "      <td>0.000000</td>\n",
       "      <td>1.607805e+05</td>\n",
       "      <td>-15630.000000</td>\n",
       "      <td>-1467.000000</td>\n",
       "      <td>1.0</td>\n",
       "      <td>0.000000</td>\n",
       "      <td>0.000000</td>\n",
       "      <td>0.000000</td>\n",
       "      <td>2.000000</td>\n",
       "      <td>0.000000</td>\n",
       "    </tr>\n",
       "    <tr>\n",
       "      <th>75%</th>\n",
       "      <td>6.456971e+06</td>\n",
       "      <td>1.000000</td>\n",
       "      <td>2.250000e+05</td>\n",
       "      <td>-12514.000000</td>\n",
       "      <td>-371.000000</td>\n",
       "      <td>1.0</td>\n",
       "      <td>0.000000</td>\n",
       "      <td>1.000000</td>\n",
       "      <td>0.000000</td>\n",
       "      <td>3.000000</td>\n",
       "      <td>1.000000</td>\n",
       "    </tr>\n",
       "    <tr>\n",
       "      <th>max</th>\n",
       "      <td>7.999952e+06</td>\n",
       "      <td>19.000000</td>\n",
       "      <td>6.750000e+06</td>\n",
       "      <td>-7489.000000</td>\n",
       "      <td>365243.000000</td>\n",
       "      <td>1.0</td>\n",
       "      <td>1.000000</td>\n",
       "      <td>1.000000</td>\n",
       "      <td>1.000000</td>\n",
       "      <td>20.000000</td>\n",
       "      <td>1.000000</td>\n",
       "    </tr>\n",
       "  </tbody>\n",
       "</table>\n",
       "</div>"
      ],
      "text/plain": [
       "                 ID   CNT_CHILDREN  AMT_INCOME_TOTAL     DAYS_BIRTH  \\\n",
       "count  4.385570e+05  438557.000000      4.385570e+05  438557.000000   \n",
       "mean   6.022176e+06       0.427390      1.875243e+05  -15997.904649   \n",
       "std    5.716370e+05       0.724882      1.100869e+05    4185.030007   \n",
       "min    5.008804e+06       0.000000      2.610000e+04  -25201.000000   \n",
       "25%    5.609375e+06       0.000000      1.215000e+05  -19483.000000   \n",
       "50%    6.047745e+06       0.000000      1.607805e+05  -15630.000000   \n",
       "75%    6.456971e+06       1.000000      2.250000e+05  -12514.000000   \n",
       "max    7.999952e+06      19.000000      6.750000e+06   -7489.000000   \n",
       "\n",
       "       DAYS_EMPLOYED  FLAG_MOBIL  FLAG_WORK_PHONE     FLAG_PHONE  \\\n",
       "count  438557.000000    438557.0    438557.000000  438557.000000   \n",
       "mean    60563.675328         1.0         0.206133       0.287771   \n",
       "std    138767.799647         0.0         0.404527       0.452724   \n",
       "min    -17531.000000         1.0         0.000000       0.000000   \n",
       "25%     -3103.000000         1.0         0.000000       0.000000   \n",
       "50%     -1467.000000         1.0         0.000000       0.000000   \n",
       "75%      -371.000000         1.0         0.000000       1.000000   \n",
       "max    365243.000000         1.0         1.000000       1.000000   \n",
       "\n",
       "          FLAG_EMAIL  CNT_FAM_MEMBERS         target  \n",
       "count  438557.000000    438557.000000  438557.000000  \n",
       "mean        0.108207         2.194465       0.499422  \n",
       "std         0.310642         0.897207       0.500000  \n",
       "min         0.000000         1.000000       0.000000  \n",
       "25%         0.000000         2.000000       0.000000  \n",
       "50%         0.000000         2.000000       0.000000  \n",
       "75%         0.000000         3.000000       1.000000  \n",
       "max         1.000000        20.000000       1.000000  "
      ]
     },
     "execution_count": 19,
     "metadata": {},
     "output_type": "execute_result"
    }
   ],
   "source": [
    "# Summary statistics for numerical columns\n",
    "data.describe()"
   ]
  },
  {
   "cell_type": "markdown",
   "metadata": {
    "id": "CcfZRGxtI2Gx"
   },
   "source": [
    "**Comment**:\n",
    "\n",
    "Average income of the custoomer is roughly 186,685 dollars with wide variation of 101,789 due to the presence of outliner (max value is 1,575,000)\n",
    "\n",
    "Everyone have their own mobile device\n",
    "\n",
    "Customers have averagely 2 persons. Exceptionally there are member with 20 members."
   ]
  },
  {
   "cell_type": "code",
   "execution_count": 20,
   "metadata": {
    "colab": {
     "base_uri": "https://localhost:8080/"
    },
    "id": "9XQRweS6InHb",
    "outputId": "6025ba8e-b773-438d-e7aa-a5feca8ab788"
   },
   "outputs": [
    {
     "data": {
      "text/plain": [
       "OCCUPATION_TYPE        30.601039\n",
       "ID                      0.000000\n",
       "DAYS_BIRTH              0.000000\n",
       "CNT_FAM_MEMBERS         0.000000\n",
       "FLAG_EMAIL              0.000000\n",
       "FLAG_PHONE              0.000000\n",
       "FLAG_WORK_PHONE         0.000000\n",
       "FLAG_MOBIL              0.000000\n",
       "DAYS_EMPLOYED           0.000000\n",
       "NAME_HOUSING_TYPE       0.000000\n",
       "CODE_GENDER             0.000000\n",
       "NAME_FAMILY_STATUS      0.000000\n",
       "NAME_EDUCATION_TYPE     0.000000\n",
       "NAME_INCOME_TYPE        0.000000\n",
       "AMT_INCOME_TOTAL        0.000000\n",
       "CNT_CHILDREN            0.000000\n",
       "FLAG_OWN_REALTY         0.000000\n",
       "FLAG_OWN_CAR            0.000000\n",
       "target                  0.000000\n",
       "dtype: float64"
      ]
     },
     "execution_count": 20,
     "metadata": {},
     "output_type": "execute_result"
    }
   ],
   "source": [
    "# Check the missing\n",
    "(data.isnull().sum()/data.shape[0]*100).sort_values(ascending=False)\n"
   ]
  },
  {
   "cell_type": "code",
   "execution_count": 21,
   "metadata": {
    "colab": {
     "base_uri": "https://localhost:8080/"
    },
    "id": "q0mYhXWfJ3XU",
    "outputId": "2106dcf4-0467-4ac2-dadd-7018427a30fd"
   },
   "outputs": [
    {
     "data": {
      "text/plain": [
       "Laborers                 78240\n",
       "Core staff               43007\n",
       "Sales staff              41098\n",
       "Managers                 35487\n",
       "Drivers                  26090\n",
       "High skill tech staff    17289\n",
       "Accountants              15985\n",
       "Medicine staff           13520\n",
       "Cooking staff             8076\n",
       "Security staff            7993\n",
       "Cleaning staff            5845\n",
       "Private service staff     3456\n",
       "Low-skill Laborers        2140\n",
       "Secretaries               2044\n",
       "Waiters/barmen staff      1665\n",
       "Realty agents             1041\n",
       "HR staff                   774\n",
       "IT staff                   604\n",
       "Name: OCCUPATION_TYPE, dtype: int64"
      ]
     },
     "execution_count": 21,
     "metadata": {},
     "output_type": "execute_result"
    }
   ],
   "source": [
    "# Check value inside occupation_type\n",
    "data['OCCUPATION_TYPE'].value_counts()"
   ]
  },
  {
   "cell_type": "code",
   "execution_count": 22,
   "metadata": {
    "colab": {
     "base_uri": "https://localhost:8080/"
    },
    "id": "Vg7NbzJ8O8nl",
    "outputId": "2d433473-0dfd-4e4b-9b01-a772579f4031"
   },
   "outputs": [
    {
     "data": {
      "text/plain": [
       "30.601039317580152"
      ]
     },
     "execution_count": 22,
     "metadata": {},
     "output_type": "execute_result"
    }
   ],
   "source": [
    "# missing percentage\n",
    "data['OCCUPATION_TYPE'].isna().sum() / data.shape[0] * 100"
   ]
  },
  {
   "cell_type": "markdown",
   "metadata": {
    "id": "yJxM6KpUJUn3"
   },
   "source": [
    "**Comment** Only Occupation_type has 11,323 missing value on total 36,457 observations, which is quite high % of missing data.\n",
    "Some banks may consider job occupation in their process of approving for credit card request or. However due to the missingness is huge and also we have alternative data to be considered instead, which are the annual income and income category, I will decide to drop that columns before encoding data for PCA."
   ]
  },
  {
   "cell_type": "code",
   "execution_count": 23,
   "metadata": {
    "id": "z_gYGXv2K8Ec"
   },
   "outputs": [],
   "source": [
    "data = data.drop(['OCCUPATION_TYPE'], axis=1)"
   ]
  },
  {
   "cell_type": "code",
   "execution_count": 24,
   "metadata": {},
   "outputs": [
    {
     "data": {
      "image/png": "[encoded data removed]",
      "text/plain": [
       "<Figure size 1000x600 with 1 Axes>"
      ]
     },
     "metadata": {},
     "output_type": "display_data"
    }
   ],
   "source": [
    "import matplotlib.pyplot as plt\n",
    "import seaborn as sns\n",
    "\n",
    "# Plot the distribution of DAYS_EMPLOYED\n",
    "plt.figure(figsize=(10, 6))\n",
    "sns.histplot(data['DAYS_EMPLOYED'], bins=50, kde=True)\n",
    "plt.title('Distribution of DAYS_EMPLOYED')\n",
    "plt.xlabel('DAYS_EMPLOYED')\n",
    "plt.ylabel('Frequency')\n",
    "plt.show()\n"
   ]
  },
  {
   "cell_type": "markdown",
   "metadata": {},
   "source": [
    "**Comment** There are some extreme value that does not make sense as 350,000 days is almost 999 years, hence removing outliner to clean the data\n"
   ]
  },
  {
   "cell_type": "code",
   "execution_count": 25,
   "metadata": {},
   "outputs": [
    {
     "data": {
      "image/png": "[encoded data removed]",
      "text/plain": [
       "<Figure size 1000x600 with 1 Axes>"
      ]
     },
     "metadata": {},
     "output_type": "display_data"
    }
   ],
   "source": [
    "# Calculate Q1 (25th percentile) and Q3 (75th percentile)\n",
    "Q1 = data['DAYS_EMPLOYED'].quantile(0.25)\n",
    "Q3 = data['DAYS_EMPLOYED'].quantile(0.75)\n",
    "IQR = Q3 - Q1\n",
    "\n",
    "# Define the outlier thresholds\n",
    "lower_bound = Q1 - 1.5 * IQR\n",
    "upper_bound = Q3 + 1.5 * IQR\n",
    "\n",
    "# Remove outliers\n",
    "data = data[(data['DAYS_EMPLOYED'] >= lower_bound) & (data['DAYS_EMPLOYED'] <= upper_bound)]\n",
    "\n",
    "# Plot the distribution of DAYS_EMPLOYED after removing outliers\n",
    "plt.figure(figsize=(10, 6))\n",
    "sns.histplot(data['DAYS_EMPLOYED'], bins=50, kde=True)\n",
    "plt.title('Distribution of DAYS_EMPLOYED After Removing Outliers')\n",
    "plt.xlabel('DAYS_EMPLOYED')\n",
    "plt.ylabel('Frequency')\n",
    "plt.show()"
   ]
  },
  {
   "cell_type": "code",
   "execution_count": 26,
   "metadata": {
    "id": "-qyzNWukK-mG"
   },
   "outputs": [],
   "source": [
    "# One hot encode\n",
    "cat_columns = ['CODE_GENDER', 'FLAG_OWN_CAR', 'FLAG_OWN_REALTY', 'NAME_INCOME_TYPE',\n",
    "                       'NAME_EDUCATION_TYPE', 'NAME_FAMILY_STATUS', 'NAME_HOUSING_TYPE']\n",
    "data_encoded = pd.get_dummies(data,\n",
    "                              columns = cat_columns, drop_first=True)\n",
    "\n",
    "# Standardize the numerical data\n",
    "num_columns =['CNT_CHILDREN', 'AMT_INCOME_TOTAL', 'DAYS_BIRTH', 'DAYS_EMPLOYED', 'CNT_FAM_MEMBERS']\n",
    "\n",
    "from sklearn.preprocessing import StandardScaler\n",
    "scaler = StandardScaler()\n",
    "data_scaled = scaler.fit_transform(data[num_columns])\n",
    "\n"
   ]
  },
  {
   "cell_type": "code",
   "execution_count": 11,
   "metadata": {
    "id": "BFH5AJXWTplk"
   },
   "outputs": [
    {
     "name": "stdout",
     "output_type": "stream",
     "text": [
      "<class 'pandas.core.frame.DataFrame'>\n",
      "Int64Index: 341257 entries, 0 to 438556\n",
      "Data columns (total 31 columns):\n",
      " #   Column                                             Non-Null Count   Dtype  \n",
      "---  ------                                             --------------   -----  \n",
      " 0   ID                                                 341257 non-null  int64  \n",
      " 1   CNT_CHILDREN                                       341257 non-null  int64  \n",
      " 2   AMT_INCOME_TOTAL                                   341257 non-null  float64\n",
      " 3   DAYS_BIRTH                                         341257 non-null  int64  \n",
      " 4   DAYS_EMPLOYED                                      341257 non-null  int64  \n",
      " 5   FLAG_MOBIL                                         341257 non-null  int64  \n",
      " 6   FLAG_WORK_PHONE                                    341257 non-null  int64  \n",
      " 7   FLAG_PHONE                                         341257 non-null  int64  \n",
      " 8   FLAG_EMAIL                                         341257 non-null  int64  \n",
      " 9   CNT_FAM_MEMBERS                                    341257 non-null  int64  \n",
      " 10  target                                             341257 non-null  int64  \n",
      " 11  CODE_GENDER_M                                      341257 non-null  uint8  \n",
      " 12  FLAG_OWN_CAR_Y                                     341257 non-null  uint8  \n",
      " 13  FLAG_OWN_REALTY_Y                                  341257 non-null  uint8  \n",
      " 14  NAME_INCOME_TYPE_Pensioner                         341257 non-null  uint8  \n",
      " 15  NAME_INCOME_TYPE_State servant                     341257 non-null  uint8  \n",
      " 16  NAME_INCOME_TYPE_Student                           341257 non-null  uint8  \n",
      " 17  NAME_INCOME_TYPE_Working                           341257 non-null  uint8  \n",
      " 18  NAME_EDUCATION_TYPE_Higher education               341257 non-null  uint8  \n",
      " 19  NAME_EDUCATION_TYPE_Incomplete higher              341257 non-null  uint8  \n",
      " 20  NAME_EDUCATION_TYPE_Lower secondary                341257 non-null  uint8  \n",
      " 21  NAME_EDUCATION_TYPE_Secondary / secondary special  341257 non-null  uint8  \n",
      " 22  NAME_FAMILY_STATUS_Married                         341257 non-null  uint8  \n",
      " 23  NAME_FAMILY_STATUS_Separated                       341257 non-null  uint8  \n",
      " 24  NAME_FAMILY_STATUS_Single / not married            341257 non-null  uint8  \n",
      " 25  NAME_FAMILY_STATUS_Widow                           341257 non-null  uint8  \n",
      " 26  NAME_HOUSING_TYPE_House / apartment                341257 non-null  uint8  \n",
      " 27  NAME_HOUSING_TYPE_Municipal apartment              341257 non-null  uint8  \n",
      " 28  NAME_HOUSING_TYPE_Office apartment                 341257 non-null  uint8  \n",
      " 29  NAME_HOUSING_TYPE_Rented apartment                 341257 non-null  uint8  \n",
      " 30  NAME_HOUSING_TYPE_With parents                     341257 non-null  uint8  \n",
      "dtypes: float64(1), int64(10), uint8(20)\n",
      "memory usage: 37.8 MB\n"
     ]
    }
   ],
   "source": [
    "data_encoded.info()"
   ]
  },
  {
   "cell_type": "markdown",
   "metadata": {},
   "source": [
    "# 2. Feature reduction with PCA"
   ]
  },
  {
   "cell_type": "code",
   "execution_count": 27,
   "metadata": {
    "colab": {
     "base_uri": "https://localhost:8080/",
     "height": 649
    },
    "id": "npgBz5VjQjwS",
    "outputId": "4cbfe8da-3ab1-4f12-c8ea-4e8bca69bcdd"
   },
   "outputs": [
    {
     "data": {
      "text/html": [
       "<style>#sk-container-id-2 {color: black;background-color: white;}#sk-container-id-2 pre{padding: 0;}#sk-container-id-2 div.sk-toggleable {background-color: white;}#sk-container-id-2 label.sk-toggleable__label {cursor: pointer;display: block;width: 100%;margin-bottom: 0;padding: 0.3em;box-sizing: border-box;text-align: center;}#sk-container-id-2 label.sk-toggleable__label-arrow:before {content: \"▸\";float: left;margin-right: 0.25em;color: #696969;}#sk-container-id-2 label.sk-toggleable__label-arrow:hover:before {color: black;}#sk-container-id-2 div.sk-estimator:hover label.sk-toggleable__label-arrow:before {color: black;}#sk-container-id-2 div.sk-toggleable__content {max-height: 0;max-width: 0;overflow: hidden;text-align: left;background-color: #f0f8ff;}#sk-container-id-2 div.sk-toggleable__content pre {margin: 0.2em;color: black;border-radius: 0.25em;background-color: #f0f8ff;}#sk-container-id-2 input.sk-toggleable__control:checked~div.sk-toggleable__content {max-height: 200px;max-width: 100%;overflow: auto;}#sk-container-id-2 input.sk-toggleable__control:checked~label.sk-toggleable__label-arrow:before {content: \"▾\";}#sk-container-id-2 div.sk-estimator input.sk-toggleable__control:checked~label.sk-toggleable__label {background-color: #d4ebff;}#sk-container-id-2 div.sk-label input.sk-toggleable__control:checked~label.sk-toggleable__label {background-color: #d4ebff;}#sk-container-id-2 input.sk-hidden--visually {border: 0;clip: rect(1px 1px 1px 1px);clip: rect(1px, 1px, 1px, 1px);height: 1px;margin: -1px;overflow: hidden;padding: 0;position: absolute;width: 1px;}#sk-container-id-2 div.sk-estimator {font-family: monospace;background-color: #f0f8ff;border: 1px dotted black;border-radius: 0.25em;box-sizing: border-box;margin-bottom: 0.5em;}#sk-container-id-2 div.sk-estimator:hover {background-color: #d4ebff;}#sk-container-id-2 div.sk-parallel-item::after {content: \"\";width: 100%;border-bottom: 1px solid gray;flex-grow: 1;}#sk-container-id-2 div.sk-label:hover label.sk-toggleable__label {background-color: #d4ebff;}#sk-container-id-2 div.sk-serial::before {content: \"\";position: absolute;border-left: 1px solid gray;box-sizing: border-box;top: 0;bottom: 0;left: 50%;z-index: 0;}#sk-container-id-2 div.sk-serial {display: flex;flex-direction: column;align-items: center;background-color: white;padding-right: 0.2em;padding-left: 0.2em;position: relative;}#sk-container-id-2 div.sk-item {position: relative;z-index: 1;}#sk-container-id-2 div.sk-parallel {display: flex;align-items: stretch;justify-content: center;background-color: white;position: relative;}#sk-container-id-2 div.sk-item::before, #sk-container-id-2 div.sk-parallel-item::before {content: \"\";position: absolute;border-left: 1px solid gray;box-sizing: border-box;top: 0;bottom: 0;left: 50%;z-index: -1;}#sk-container-id-2 div.sk-parallel-item {display: flex;flex-direction: column;z-index: 1;position: relative;background-color: white;}#sk-container-id-2 div.sk-parallel-item:first-child::after {align-self: flex-end;width: 50%;}#sk-container-id-2 div.sk-parallel-item:last-child::after {align-self: flex-start;width: 50%;}#sk-container-id-2 div.sk-parallel-item:only-child::after {width: 0;}#sk-container-id-2 div.sk-dashed-wrapped {border: 1px dashed gray;margin: 0 0.4em 0.5em 0.4em;box-sizing: border-box;padding-bottom: 0.4em;background-color: white;}#sk-container-id-2 div.sk-label label {font-family: monospace;font-weight: bold;display: inline-block;line-height: 1.2em;}#sk-container-id-2 div.sk-label-container {text-align: center;}#sk-container-id-2 div.sk-container {/* jupyter's `normalize.less` sets `[hidden] { display: none; }` but bootstrap.min.css set `[hidden] { display: none !important; }` so we also need the `!important` here to be able to override the default hidden behavior on the sphinx rendered scikit-learn.org. See: https://github.com/scikit-learn/scikit-learn/issues/21755 */display: inline-block !important;position: relative;}#sk-container-id-2 div.sk-text-repr-fallback {display: none;}</style><div id=\"sk-container-id-2\" class=\"sk-top-container\"><div class=\"sk-text-repr-fallback\"><pre>PCA()</pre><b>In a Jupyter environment, please rerun this cell to show the HTML representation or trust the notebook. <br />On GitHub, the HTML representation is unable to render, please try loading this page with nbviewer.org.</b></div><div class=\"sk-container\" hidden><div class=\"sk-item\"><div class=\"sk-estimator sk-toggleable\"><input class=\"sk-toggleable__control sk-hidden--visually\" id=\"sk-estimator-id-2\" type=\"checkbox\" checked><label for=\"sk-estimator-id-2\" class=\"sk-toggleable__label sk-toggleable__label-arrow\">PCA</label><div class=\"sk-toggleable__content\"><pre>PCA()</pre></div></div></div></div></div>"
      ],
      "text/plain": [
       "PCA()"
      ]
     },
     "execution_count": 27,
     "metadata": {},
     "output_type": "execute_result"
    }
   ],
   "source": [
    "from sklearn.decomposition import  PCA\n",
    "import matplotlib.pyplot as plt\n",
    "\n",
    "# Assuming 'data' is your original Data\n",
    "# Find optimal of PCA on numerical data\n",
    "pca_full = PCA()\n",
    "pca_full.fit(data_scaled)"
   ]
  },
  {
   "cell_type": "code",
   "execution_count": 13,
   "metadata": {},
   "outputs": [
    {
     "data": {
      "image/png": "[encoded data removed]",
      "text/plain": [
       "<Figure size 1000x600 with 1 Axes>"
      ]
     },
     "metadata": {},
     "output_type": "display_data"
    }
   ],
   "source": [
    "# Plot the number of components vs. explained variance\n",
    "explained_variances = []\n",
    "num_components = []\n",
    "for n_components in range(1, len(num_columns)+1):\n",
    "    pca = PCA(n_components=n_components)\n",
    "    X_pca = pca.fit_transform(data_scaled)\n",
    "    explained_variances.append(sum(pca.explained_variance_ratio_))\n",
    "    num_components.append(n_components)\n",
    "\n",
    "plt.figure(figsize=(10, 6))\n",
    "plt.plot(num_components, explained_variances, marker='o')\n",
    "plt.xlabel('Number of Components')\n",
    "plt.ylabel('Explained Variance')\n",
    "plt.title('Explained Variance vs. Number of Components')\n",
    "\n",
    "for i, (n, ev) in enumerate(zip(num_components, explained_variances)):\n",
    "    plt.text(n, ev, f'{ev:.2f}', ha='left', va='center')\n",
    "\n",
    "plt.show()"
   ]
  },
  {
   "cell_type": "markdown",
   "metadata": {
    "id": "_vxgXMBOJto5"
   },
   "source": [
    "**Comment** With 4 principle components, can retain around 86% of variance and lost 14% so I will go with 4 components to train the model. We can increase higher if the bank wanted to minimize the risk to the highest chance, however, It may also has slightly affect their business negatively as they do lost some amount of customer due to very strict conditions."
   ]
  },
  {
   "cell_type": "code",
   "execution_count": 14,
   "metadata": {},
   "outputs": [
    {
     "data": {
      "text/plain": [
       "Index(['ID', 'CODE_GENDER', 'FLAG_OWN_CAR', 'FLAG_OWN_REALTY', 'CNT_CHILDREN',\n",
       "       'AMT_INCOME_TOTAL', 'NAME_INCOME_TYPE', 'NAME_EDUCATION_TYPE',\n",
       "       'NAME_FAMILY_STATUS', 'NAME_HOUSING_TYPE', 'DAYS_BIRTH',\n",
       "       'DAYS_EMPLOYED', 'FLAG_MOBIL', 'FLAG_WORK_PHONE', 'FLAG_PHONE',\n",
       "       'FLAG_EMAIL', 'CNT_FAM_MEMBERS', 'target'],\n",
       "      dtype='object')"
      ]
     },
     "execution_count": 14,
     "metadata": {},
     "output_type": "execute_result"
    }
   ],
   "source": [
    "data.columns"
   ]
  },
  {
   "cell_type": "markdown",
   "metadata": {},
   "source": [
    "# 3. Model performance"
   ]
  },
  {
   "cell_type": "code",
   "execution_count": 28,
   "metadata": {
    "colab": {
     "base_uri": "https://localhost:8080/",
     "height": 103
    },
    "id": "kZdgnhysSgNG",
    "outputId": "d74ed3cd-08f5-4cd9-9b6e-cc2f6c3aeb46"
   },
   "outputs": [
    {
     "name": "stdout",
     "output_type": "stream",
     "text": [
      "              precision    recall  f1-score   support\n",
      "\n",
      "           0       0.50      0.50      0.50     51312\n",
      "           1       0.50      0.50      0.50     51066\n",
      "\n",
      "    accuracy                           0.50    102378\n",
      "   macro avg       0.50      0.50      0.50    102378\n",
      "weighted avg       0.50      0.50      0.50    102378\n",
      "\n",
      "[[25630 25682]\n",
      " [25520 25546]]\n"
     ]
    }
   ],
   "source": [
    "# Apply PCA to retain the first 4 components\n",
    "pca_optimal = PCA(n_components=4)\n",
    "data_pca_optimal = pca_optimal.fit_transform(data_scaled)\n",
    "\n",
    "# Split the data into training and testing sets\n",
    "target = data['target']\n",
    "X_train_optimal, X_test_optimal, y_train_optimal, y_test_optimal = train_test_split(data_pca_optimal,target, test_size=0.3, random_state=42)\n",
    "\n",
    "# Train Random Forest model\n",
    "rf_model_optimal = RandomForestClassifier(random_state=42)\n",
    "rf_model_optimal.fit(X_train_optimal, y_train_optimal)\n",
    "y_pred_rf_optimal = rf_model_optimal.predict(X_test_optimal)\n",
    "\n",
    "# Evaluate the Random Forest model using class weights\n",
    "report_rf = classification_report(y_test_optimal, y_pred_rf_optimal)\n",
    "cf_matrix_rf = confusion_matrix(y_test_optimal, y_pred_rf_optimal)\n",
    "\n",
    "print(report_rf)\n",
    "print(cf_matrix_rf)"
   ]
  },
  {
   "cell_type": "code",
   "execution_count": null,
   "metadata": {},
   "outputs": [
    {
     "name": "stdout",
     "output_type": "stream",
     "text": [
      "              precision    recall  f1-score   support\n",
      "\n",
      "           0       0.98      1.00      0.99      8428\n",
      "           1       0.00      0.00      0.00       138\n",
      "\n",
      "    accuracy                           0.98      8566\n",
      "   macro avg       0.49      0.50      0.50      8566\n",
      "weighted avg       0.97      0.98      0.98      8566\n",
      "\n",
      "[[8428    0]\n",
      " [ 138    0]]\n"
     ]
    },
    {
     "name": "stderr",
     "output_type": "stream",
     "text": [
      "/opt/anaconda3/lib/python3.11/site-packages/sklearn/metrics/_classification.py:1344: UndefinedMetricWarning: Precision and F-score are ill-defined and being set to 0.0 in labels with no predicted samples. Use `zero_division` parameter to control this behavior.\n",
      "  _warn_prf(average, modifier, msg_start, len(result))\n",
      "/opt/anaconda3/lib/python3.11/site-packages/sklearn/metrics/_classification.py:1344: UndefinedMetricWarning: Precision and F-score are ill-defined and being set to 0.0 in labels with no predicted samples. Use `zero_division` parameter to control this behavior.\n",
      "  _warn_prf(average, modifier, msg_start, len(result))\n",
      "/opt/anaconda3/lib/python3.11/site-packages/sklearn/metrics/_classification.py:1344: UndefinedMetricWarning: Precision and F-score are ill-defined and being set to 0.0 in labels with no predicted samples. Use `zero_division` parameter to control this behavior.\n",
      "  _warn_prf(average, modifier, msg_start, len(result))\n"
     ]
    }
   ],
   "source": [
    "import xgboost as xgb\n",
    "from sklearn.metrics import classification_report, confusion_matrix\n",
    "from sklearn.model_selection import train_test_split\n",
    "\n",
    "# Train\n",
    "xgb_model = xgb.XGBClassifier(objective='binary:logistic', colsample_bytree=0.3, learning_rate=0.1,\n",
    "                              max_depth=5, alpha=10, n_estimators=10)\n",
    "xgb_model.fit(X_train_optimal, y_train_optimal)\n",
    "y_pred_xgb = xgb_model.predict(X_test_optimal)\n",
    "\n",
    "# Evaluate the XGBoost model\n",
    "report_xgb = classification_report(y_test_optimal, y_pred_xgb)\n",
    "conf_matrix_xgb = confusion_matrix(y_test_optimal, y_pred_xgb)\n",
    "\n",
    "print(report_xgb)\n",
    "print(conf_matrix_xgb)\n"
   ]
  },
  {
   "cell_type": "markdown",
   "metadata": {},
   "source": [
    "**In  both case, the imbalance data effect the model performance where the targeted high risk customer has very small value. We will use SMOTE to fix this.**"
   ]
  },
  {
   "cell_type": "code",
   "execution_count": 29,
   "metadata": {},
   "outputs": [
    {
     "name": "stdout",
     "output_type": "stream",
     "text": [
      "[(0, 119453), (1, 119453)]\n"
     ]
    }
   ],
   "source": [
    "from imblearn.over_sampling import RandomOverSampler, SMOTE\n",
    "from imblearn.under_sampling import RandomUnderSampler, NearMiss\n",
    "from collections import Counter\n",
    "# Randomly over sample the minority class\n",
    "smote = SMOTE(random_state=42)\n",
    "X_train_smote, y_train_smote= smote.fit_resample(X_train_optimal, y_train_optimal)\n",
    "\n",
    "# Check the number of records after over sampling\n",
    "print(sorted(Counter(y_train_smote).items()))"
   ]
  },
  {
   "cell_type": "code",
   "execution_count": 30,
   "metadata": {},
   "outputs": [
    {
     "name": "stdout",
     "output_type": "stream",
     "text": [
      "              precision    recall  f1-score   support\n",
      "\n",
      "           0       0.50      0.50      0.50     51312\n",
      "           1       0.50      0.50      0.50     51066\n",
      "\n",
      "    accuracy                           0.50    102378\n",
      "   macro avg       0.50      0.50      0.50    102378\n",
      "weighted avg       0.50      0.50      0.50    102378\n",
      "\n"
     ]
    }
   ],
   "source": [
    "# Train the random forest model\n",
    "rf = RandomForestClassifier()\n",
    "smote_model = rf.fit(X_train_smote, y_train_smote)\n",
    "smote_prediction = smote_model.predict(X_test_optimal)\n",
    "\n",
    "# Check the model performance\n",
    "print(classification_report(y_test_optimal, smote_prediction))"
   ]
  },
  {
   "cell_type": "code",
   "execution_count": 35,
   "metadata": {},
   "outputs": [
    {
     "name": "stdout",
     "output_type": "stream",
     "text": [
      "\tAccuracy: 0.502129363730489\n",
      "              precision    recall  f1-score   support\n",
      "\n",
      "           0       0.50      0.49      0.49     51312\n",
      "           1       0.50      0.51      0.50     51066\n",
      "\n",
      "    accuracy                           0.50    102378\n",
      "   macro avg       0.50      0.50      0.50    102378\n",
      "weighted avg       0.50      0.50      0.50    102378\n",
      "\n"
     ]
    }
   ],
   "source": [
    "# Train the XGBoost model\n",
    "import xgboost as xgb\n",
    "xgb_model = xgb.XGBClassifier(objective='binary:logistic', colsample_bytree=0.3, learning_rate=0.1,\n",
    "                              max_depth=5, alpha=10, n_estimators=10, random_state=42)\n",
    "xgb_model.fit(X_train_smote, y_train_smote)\n",
    "y_pred_xgb = xgb_model.predict(X_test_optimal)\n",
    "\n",
    "# Evaluate the XGBoost model\n",
    "print(\"\\tAccuracy:\", accuracy_score(y_test_optimal, y_pred))\n",
    "print(classification_report(y_test_optimal, y_pred_xgb))"
   ]
  },
  {
   "cell_type": "code",
   "execution_count": 36,
   "metadata": {},
   "outputs": [
    {
     "name": "stdout",
     "output_type": "stream",
     "text": [
      "LDA Model\n",
      "\tAccuracy: 0.5024321631600539\n",
      "\tClassification Report:\n",
      "               precision    recall  f1-score   support\n",
      "\n",
      "           0       0.50      0.53      0.52     51312\n",
      "           1       0.50      0.47      0.49     51066\n",
      "\n",
      "    accuracy                           0.50    102378\n",
      "   macro avg       0.50      0.50      0.50    102378\n",
      "weighted avg       0.50      0.50      0.50    102378\n",
      "\n"
     ]
    }
   ],
   "source": [
    "from sklearn.discriminant_analysis import LinearDiscriminantAnalysis\n",
    "from sklearn.model_selection import GridSearchCV, RepeatedStratifiedKFold\n",
    "from sklearn.metrics import classification_report, accuracy_score\n",
    "import time\n",
    "\n",
    "# Define model\n",
    "model = LinearDiscriminantAnalysis()\n",
    "\n",
    "# Evaluate models with the best hyperparameters found above\n",
    "lda_best = LinearDiscriminantAnalysis() #leave blank for normal classification\n",
    "lda_best.fit(X_train_smote, y_train_smote)\n",
    "y_pred = lda_best.predict(X_test_optimal)\n",
    "\n",
    "print(\"LDA Model\")\n",
    "print(\"\\tAccuracy:\", accuracy_score(y_test_optimal, y_pred))\n",
    "print(\"\\tClassification Report:\\n\", classification_report(y_test_optimal, y_pred))"
   ]
  },
  {
   "cell_type": "markdown",
   "metadata": {},
   "source": [
    "**Comment**\n",
    "\n",
    "We will prioritize Recall over Precision since in this case true positive mean identify correct customer with high risk. Standing on the bank point of view, it is more important to prioritize the correct customer with high risk so they would not issue credit card to those who likely not make the payment to the bank and causing loss to the business. We can see the balance of recall between 0 and 1 target in XGboost model, hence, the perfomance of XGBoost model is better than Random Forest model in this case.\n"
   ]
  }
 ],
 "metadata": {
  "colab": {
   "provenance": []
  },
  "kernelspec": {
   "display_name": "Python 3 (ipykernel)",
   "language": "python",
   "name": "python3"
  },
  "language_info": {
   "codemirror_mode": {
    "name": "ipython",
    "version": 3
   },
   "file_extension": ".py",
   "mimetype": "text/x-python",
   "name": "python",
   "nbconvert_exporter": "python",
   "pygments_lexer": "ipython3",
   "version": "3.11.7"
  }
 },
 "nbformat": 4,
 "nbformat_minor": 4
}
